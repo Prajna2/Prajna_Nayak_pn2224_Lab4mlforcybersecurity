{
  "nbformat": 4,
  "nbformat_minor": 0,
  "metadata": {
    "colab": {
      "provenance": [],
      "machine_shape": "hm"
    },
    "kernelspec": {
      "name": "python3",
      "display_name": "Python 3"
    },
    "language_info": {
      "name": "python"
    }
  },
  "cells": [
    {
      "cell_type": "markdown",
      "source": [
        "## ML Lab4 Submission\n",
        "## Name- Prajna Ravindra Nayak\n",
        "## Net id- pn2224\n",
        "## N number- N16202343\n",
        "# Machine Learning Cybersecurity Lab 4\n",
        "\n"
      ],
      "metadata": {
        "id": "X55pvW0OBVC8"
      }
    },
    {
      "cell_type": "markdown",
      "source": [
        "## Importing packages"
      ],
      "metadata": {
        "id": "UwF2v5bNdhKV"
      }
    },
    {
      "cell_type": "code",
      "source": [
        "import matplotlib.pyplot as plt\n",
        "import pandas as pd\n",
        "import numpy as np\n",
        "import seaborn as sns\n",
        "import keras\n",
        "import sys\n",
        "import h5py\n",
        "import warnings\n",
        "from tqdm import tqdm"
      ],
      "metadata": {
        "id": "vB7W4IALFRCS"
      },
      "execution_count": 32,
      "outputs": []
    },
    {
      "cell_type": "code",
      "source": [
        "from google.colab import drive\n",
        "drive.mount('/content/drive')"
      ],
      "metadata": {
        "id": "oWXUWyy5ssT4",
        "outputId": "7e224174-fbcf-49cd-df54-a8476fbcaf87",
        "colab": {
          "base_uri": "https://localhost:8080/"
        }
      },
      "execution_count": 33,
      "outputs": [
        {
          "output_type": "stream",
          "name": "stdout",
          "text": [
            "Drive already mounted at /content/drive; to attempt to forcibly remount, call drive.mount(\"/content/drive\", force_remount=True).\n"
          ]
        }
      ]
    },
    {
      "cell_type": "code",
      "source": [
        "warnings.filterwarnings(\"ignore\")"
      ],
      "metadata": {
        "id": "rLcqkwnMwPxu"
      },
      "execution_count": 34,
      "outputs": []
    },
    {
      "cell_type": "markdown",
      "source": [
        "# BadNets\n",
        "# This shows the original BadNet and reports on its accuracy and attack success rate."
      ],
      "metadata": {
        "id": "xmbIJnBneLF8"
      }
    },
    {
      "cell_type": "code",
      "metadata": {
        "id": "rHopzGL9eXAj",
        "outputId": "e3005fef-ab71-4560-bb09-5f9f59c0103d",
        "colab": {
          "base_uri": "https://localhost:8080/"
        }
      },
      "source": [
        "# Updated file paths\n",
        "clean_dataset_path = '/content/drive/MyDrive/lab4/data/cl/valid.h5'\n",
        "poisoned_dataset_path = '/content/drive/MyDrive/lab4/data/bd/bd_valid.h5'\n",
        "trained_model_path = '/content/drive/MyDrive/lab4/model/bd_net.h5'\n",
        "\n",
        "# Renamed and modified data loading function\n",
        "def load_dataset(file_path):\n",
        "    dataset = h5py.File(file_path, 'r')\n",
        "    features = np.array(dataset['data'])\n",
        "    labels = np.array(dataset['label'])\n",
        "    features = features.transpose((0,2,3,1))\n",
        "\n",
        "    return features, labels\n",
        "\n",
        "# Updated main function\n",
        "def evaluate_model():\n",
        "    # Loading datasets\n",
        "    normal_x_test, normal_y_test = load_dataset(clean_dataset_path)\n",
        "    attack_x_test, attack_y_test = load_dataset(poisoned_dataset_path)\n",
        "\n",
        "    # Loading the neural network model\n",
        "    neural_net_model = keras.models.load_model(trained_model_path)\n",
        "\n",
        "    # Evaluating on clean data\n",
        "    normal_predictions = np.argmax(neural_net_model.predict(normal_x_test), axis=1)\n",
        "    normal_data_accuracy = np.mean(np.equal(normal_predictions, normal_y_test)) * 100\n",
        "    print('Accuracy on Normal Data:', normal_data_accuracy)\n",
        "\n",
        "    # Evaluating on poisoned data\n",
        "    attack_predictions = np.argmax(neural_net_model.predict(attack_x_test), axis=1)\n",
        "    attack_success_rate = np.mean(np.equal(attack_predictions, attack_y_test)) * 100\n",
        "    print('Poisoned Data Attack Success Rate:', attack_success_rate)\n",
        "\n",
        "# Running the main function\n",
        "if __name__ == '__main__':\n",
        "    evaluate_model()\n"
      ],
      "execution_count": 36,
      "outputs": [
        {
          "output_type": "stream",
          "name": "stdout",
          "text": [
            "361/361 [==============================] - 4s 11ms/step\n",
            "Accuracy on Normal Data: 98.64899974019225\n",
            "361/361 [==============================] - 4s 10ms/step\n",
            "Poisoned Data Attack Success Rate: 100.0\n"
          ]
        }
      ]
    },
    {
      "cell_type": "markdown",
      "source": [
        "# Checking structure of Model"
      ],
      "metadata": {
        "id": "Rb4D0a6Teqir"
      }
    },
    {
      "cell_type": "code",
      "source": [
        "model = keras.models.load_model(trained_model_path)"
      ],
      "metadata": {
        "id": "CbiGGU1-rlXq"
      },
      "execution_count": 37,
      "outputs": []
    },
    {
      "cell_type": "code",
      "source": [
        "print(model.summary())"
      ],
      "metadata": {
        "id": "xr9frp8C90Am",
        "outputId": "aa804212-5af0-4633-e91e-cb90e3afdece",
        "colab": {
          "base_uri": "https://localhost:8080/"
        }
      },
      "execution_count": 38,
      "outputs": [
        {
          "output_type": "stream",
          "name": "stdout",
          "text": [
            "Model: \"model_1\"\n",
            "__________________________________________________________________________________________________\n",
            " Layer (type)                Output Shape                 Param #   Connected to                  \n",
            "==================================================================================================\n",
            " input (InputLayer)          [(None, 55, 47, 3)]          0         []                            \n",
            "                                                                                                  \n",
            " conv_1 (Conv2D)             (None, 52, 44, 20)           980       ['input[0][0]']               \n",
            "                                                                                                  \n",
            " pool_1 (MaxPooling2D)       (None, 26, 22, 20)           0         ['conv_1[0][0]']              \n",
            "                                                                                                  \n",
            " conv_2 (Conv2D)             (None, 24, 20, 40)           7240      ['pool_1[0][0]']              \n",
            "                                                                                                  \n",
            " pool_2 (MaxPooling2D)       (None, 12, 10, 40)           0         ['conv_2[0][0]']              \n",
            "                                                                                                  \n",
            " conv_3 (Conv2D)             (None, 10, 8, 60)            21660     ['pool_2[0][0]']              \n",
            "                                                                                                  \n",
            " pool_3 (MaxPooling2D)       (None, 5, 4, 60)             0         ['conv_3[0][0]']              \n",
            "                                                                                                  \n",
            " conv_4 (Conv2D)             (None, 4, 3, 80)             19280     ['pool_3[0][0]']              \n",
            "                                                                                                  \n",
            " flatten_1 (Flatten)         (None, 1200)                 0         ['pool_3[0][0]']              \n",
            "                                                                                                  \n",
            " flatten_2 (Flatten)         (None, 960)                  0         ['conv_4[0][0]']              \n",
            "                                                                                                  \n",
            " fc_1 (Dense)                (None, 160)                  192160    ['flatten_1[0][0]']           \n",
            "                                                                                                  \n",
            " fc_2 (Dense)                (None, 160)                  153760    ['flatten_2[0][0]']           \n",
            "                                                                                                  \n",
            " add_1 (Add)                 (None, 160)                  0         ['fc_1[0][0]',                \n",
            "                                                                     'fc_2[0][0]']                \n",
            "                                                                                                  \n",
            " activation_1 (Activation)   (None, 160)                  0         ['add_1[0][0]']               \n",
            "                                                                                                  \n",
            " output (Dense)              (None, 1283)                 206563    ['activation_1[0][0]']        \n",
            "                                                                                                  \n",
            "==================================================================================================\n",
            "Total params: 601643 (2.30 MB)\n",
            "Trainable params: 601643 (2.30 MB)\n",
            "Non-trainable params: 0 (0.00 Byte)\n",
            "__________________________________________________________________________________________________\n",
            "None\n"
          ]
        }
      ]
    },
    {
      "cell_type": "markdown",
      "source": [
        "# Visualizing the data to see the clean data"
      ],
      "metadata": {
        "id": "U6w6yPk9fBLr"
      }
    },
    {
      "cell_type": "code",
      "source": [
        "features, labels = load_dataset(clean_dataset_path)"
      ],
      "metadata": {
        "id": "xKY8WGG5e6UP"
      },
      "execution_count": 39,
      "outputs": []
    },
    {
      "cell_type": "code",
      "source": [
        "# Importing necessary library\n",
        "import matplotlib.pyplot as plt\n",
        "import numpy as np\n",
        "\n",
        "\n",
        "sample_images = features\n",
        "sample_labels = labels\n",
        "\n",
        "# Creating a plot\n",
        "plot_figure = plt.figure(figsize=(10, 8))\n",
        "columns, rows = 3, 3\n",
        "\n",
        "for i in range(1, columns * rows + 1):\n",
        "    random_index = np.random.randint(sample_images.shape[0])\n",
        "    image, label = sample_images[random_index], sample_labels[random_index]\n",
        "    plot_figure.add_subplot(rows, columns, i)\n",
        "    plt.title(f\"Label: {label}\")\n",
        "    plt.axis(\"off\")\n",
        "    plt.imshow(image.squeeze() / 255)  # Adjusted for normalization and potential dimension squeeze\n",
        "\n",
        "plt.show()\n"
      ],
      "metadata": {
        "colab": {
          "base_uri": "https://localhost:8080/",
          "height": 675
        },
        "id": "4uR9tD-KenHC",
        "outputId": "0c5142b4-0d16-4d11-ba8c-e1a60fad7a08"
      },
      "execution_count": 40,
      "outputs": [
        {
          "output_type": "display_data",
          "data": {
            "text/plain": [
              "<Figure size 1000x800 with 9 Axes>"
            ],
            "image/png": "[encoded data removed]"
          },
          "metadata": {}
        }
      ]
    },
    {
      "cell_type": "markdown",
      "source": [
        "# Visualizing the poisoned data"
      ],
      "metadata": {
        "id": "A3oj1l0LfqKP"
      }
    },
    {
      "cell_type": "code",
      "source": [
        "x_poisoned_data, y_poisoned_data = load_dataset(poisoned_dataset_path)"
      ],
      "metadata": {
        "id": "KA-qTntdf1R8"
      },
      "execution_count": 41,
      "outputs": []
    },
    {
      "cell_type": "code",
      "source": [
        "poisoned_images = x_poisoned_data  # Replace 'x_poisoned_data' with your actual images array\n",
        "poisoned_labels = y_poisoned_data  # Replace 'y_poisoned_data' with your actual labels array\n",
        "\n",
        "# Creating a visualization plot\n",
        "visualization_plot = plt.figure(figsize=(10, 8))\n",
        "num_columns, num_rows = 3, 3\n",
        "\n",
        "for i in range(1, num_columns * num_rows + 1):\n",
        "    random_idx = np.random.randint(poisoned_images.shape[0])\n",
        "    selected_image, selected_label = poisoned_images[random_idx], poisoned_labels[random_idx]\n",
        "    visualization_plot.add_subplot(num_rows, num_columns, i)\n",
        "    plt.title(f\"Label: {selected_label}\")  # Assuming label is a single-element array\n",
        "    plt.axis(\"off\")\n",
        "    plt.imshow(selected_image.squeeze() / 255)  # Adjusted for normalization and potential dimension squeeze\n",
        "\n",
        "plt.show()"
      ],
      "metadata": {
        "colab": {
          "base_uri": "https://localhost:8080/",
          "height": 675
        },
        "id": "lFBeQMrEFCTx",
        "outputId": "23378487-b61a-499b-956e-7f6588476834"
      },
      "execution_count": 43,
      "outputs": [
        {
          "output_type": "display_data",
          "data": {
            "text/plain": [
              "<Figure size 1000x800 with 9 Axes>"
            ],
            "image/png": "[encoded data removed]"
          },
          "metadata": {}
        }
      ]
    },
    {
      "cell_type": "code",
      "source": [
        "# clearing the session\n",
        "keras.backend.clear_session()"
      ],
      "metadata": {
        "id": "9b3TEGQ1vVaI"
      },
      "execution_count": 44,
      "outputs": []
    },
    {
      "cell_type": "markdown",
      "source": [
        "# Pruning Defense Strategy\n",
        "\n",
        "The five steps to guide the model pruning are as follows:\n",
        "\n",
        "Check the activation of the final pooling layer (pool_3) as the first step.\n",
        "The channel with the least average activation is usually selected to guide the pruning process.\n",
        "Within the convolution layer (conv_3), which contains a total of 60 channels, the focus will be on finding the exact index to prune."
      ],
      "metadata": {
        "id": "qsV4zCN7Zulw"
      }
    },
    {
      "cell_type": "code",
      "source": [
        "normal_x_test, normal_y_test = load_dataset(clean_dataset_path)\n",
        "attack_x_test, attack_y_test = load_dataset(poisoned_dataset_path)\n"
      ],
      "metadata": {
        "id": "NifUFwEpfqKk"
      },
      "execution_count": 52,
      "outputs": []
    },
    {
      "cell_type": "code",
      "source": [
        "baseline_accuracy = 98.64899974019225\n",
        "cloned_model = keras.models.clone_model(model)\n",
        "cloned_model.set_weights(model.get_weights())\n",
        "pruned_channels = []\n",
        "accuracy_clean_data = []\n",
        "attack_success_rates = []\n",
        "model_saved_flags = np.zeros(3, dtype=bool)\n",
        "\n",
        "# Extracting activations from a specific layer\n",
        "activation_layer = cloned_model.get_layer('pool_3').output\n",
        "model_for_activations = keras.models.Model(inputs=cloned_model.input, outputs=activation_layer)\n",
        "activation_output = model_for_activations.predict(normal_x_test)\n",
        "average_activations = np.mean(activation_output, axis=(0, 1, 2))\n",
        "sorted_indices = np.argsort(average_activations)\n",
        "layer_weights = cloned_model.layers[5].get_weights()\n",
        "initial_weights, initial_biases = layer_weights[0], layer_weights[1]\n",
        "\n",
        "for index in tqdm(sorted_indices):\n",
        "  initial_weights[:, :, :, index] = 0\n",
        "  initial_biases[index] = 0\n",
        "  cloned_model.layers[5].set_weights([initial_weights, initial_biases])\n",
        "  predicted_labels = np.argmax(cloned_model.predict(normal_x_test), axis=1)\n",
        "  current_accuracy = np.mean(np.equal(predicted_labels,normal_y_test)) * 100\n",
        "  if (baseline_accuracy - current_accuracy >= 2 and not model_saved_flags[0]):\n",
        "    print(\"Accuracy dropped by at least 2%, saving model\")\n",
        "    cloned_model.save('model_drop_2.h5')\n",
        "    model_saved_flags[0] = True\n",
        "  if (baseline_accuracy - current_accuracy >= 4 and not model_saved_flags[1]):\n",
        "    print(\"Accuracy dropped by at least 4%, saving model\")\n",
        "    cloned_model.save('model_drop_4.h5')\n",
        "    model_saved_flags[1] = True\n",
        "  if (baseline_accuracy - current_accuracy >= 10 and not model_saved_flags[2]):\n",
        "    print(\"Accuracy dropped by at least 10%, saving model\")\n",
        "    cloned_model.save('model_drop_10.h5')\n",
        "    model_saved_flags[2] = True\n",
        "  accuracy_clean_data.append(current_accuracy)\n",
        "  poisoned_predictions = np.argmax(cloned_model.predict(attack_x_test), axis=1)\n",
        "  asr = np.mean(np.equal(poisoned_predictions, attack_y_test)) * 100\n",
        "  attack_success_rates.append(asr)\n",
        "  print(\"\\nClean Data Accuracy: \", current_accuracy)\n",
        "  print(\"Attack Success Rate: \", asr)\n",
        "  print(\"Pruned Channel Index: \", index)\n",
        "  keras.backend.clear_session()\n"
      ],
      "metadata": {
        "id": "GQljzY8Ebrcs",
        "outputId": "4853f2e7-2bd5-4af9-ac79-e2508eb2d7ee",
        "colab": {
          "base_uri": "https://localhost:8080/"
        }
      },
      "execution_count": 55,
      "outputs": [
        {
          "output_type": "stream",
          "name": "stdout",
          "text": [
            "361/361 [==============================] - 3s 9ms/step\n"
          ]
        },
        {
          "output_type": "stream",
          "name": "stderr",
          "text": [
            "\r  0%|          | 0/60 [00:00<?, ?it/s]"
          ]
        },
        {
          "output_type": "stream",
          "name": "stdout",
          "text": [
            "361/361 [==============================] - 4s 10ms/step\n",
            "361/361 [==============================] - 3s 10ms/step\n",
            "\n",
            "Clean Data Accuracy:  98.64899974019225\n",
            "Attack Success Rate:  100.0\n",
            "Pruned Channel Index:  0\n"
          ]
        },
        {
          "output_type": "stream",
          "name": "stderr",
          "text": [
            "\r  2%|▏         | 1/60 [00:09<09:07,  9.27s/it]"
          ]
        },
        {
          "output_type": "stream",
          "name": "stdout",
          "text": [
            "361/361 [==============================] - 4s 11ms/step\n",
            "361/361 [==============================] - 4s 10ms/step\n",
            "\n",
            "Clean Data Accuracy:  98.64899974019225\n",
            "Attack Success Rate:  100.0\n",
            "Pruned Channel Index:  26\n"
          ]
        },
        {
          "output_type": "stream",
          "name": "stderr",
          "text": [
            "\r  3%|▎         | 2/60 [00:20<10:03, 10.41s/it]"
          ]
        },
        {
          "output_type": "stream",
          "name": "stdout",
          "text": [
            "361/361 [==============================] - 4s 10ms/step\n",
            "361/361 [==============================] - 4s 11ms/step\n"
          ]
        },
        {
          "output_type": "stream",
          "name": "stderr",
          "text": [
            "\r  5%|▌         | 3/60 [00:31<10:03, 10.59s/it]"
          ]
        },
        {
          "output_type": "stream",
          "name": "stdout",
          "text": [
            "\n",
            "Clean Data Accuracy:  98.64899974019225\n",
            "Attack Success Rate:  100.0\n",
            "Pruned Channel Index:  27\n",
            "361/361 [==============================] - 4s 10ms/step\n",
            "361/361 [==============================] - 4s 10ms/step\n"
          ]
        },
        {
          "output_type": "stream",
          "name": "stderr",
          "text": [
            "\r  7%|▋         | 4/60 [00:43<10:28, 11.23s/it]"
          ]
        },
        {
          "output_type": "stream",
          "name": "stdout",
          "text": [
            "\n",
            "Clean Data Accuracy:  98.64899974019225\n",
            "Attack Success Rate:  100.0\n",
            "Pruned Channel Index:  30\n",
            "361/361 [==============================] - 4s 10ms/step\n",
            "361/361 [==============================] - 4s 10ms/step\n"
          ]
        },
        {
          "output_type": "stream",
          "name": "stderr",
          "text": [
            "\r  8%|▊         | 5/60 [00:53<09:44, 10.62s/it]"
          ]
        },
        {
          "output_type": "stream",
          "name": "stdout",
          "text": [
            "\n",
            "Clean Data Accuracy:  98.64899974019225\n",
            "Attack Success Rate:  100.0\n",
            "Pruned Channel Index:  31\n",
            "361/361 [==============================] - 4s 10ms/step\n",
            "361/361 [==============================] - 4s 10ms/step\n"
          ]
        },
        {
          "output_type": "stream",
          "name": "stderr",
          "text": [
            "\r 10%|█         | 6/60 [01:03<09:34, 10.64s/it]"
          ]
        },
        {
          "output_type": "stream",
          "name": "stdout",
          "text": [
            "\n",
            "Clean Data Accuracy:  98.64899974019225\n",
            "Attack Success Rate:  100.0\n",
            "Pruned Channel Index:  33\n",
            "361/361 [==============================] - 4s 10ms/step\n",
            "361/361 [==============================] - 4s 11ms/step\n",
            "\n",
            "Clean Data Accuracy:  98.64899974019225\n",
            "Attack Success Rate:  100.0\n",
            "Pruned Channel Index:  34\n"
          ]
        },
        {
          "output_type": "stream",
          "name": "stderr",
          "text": [
            "\r 12%|█▏        | 7/60 [01:14<09:27, 10.71s/it]"
          ]
        },
        {
          "output_type": "stream",
          "name": "stdout",
          "text": [
            "361/361 [==============================] - 4s 10ms/step\n",
            "361/361 [==============================] - 4s 12ms/step\n"
          ]
        },
        {
          "output_type": "stream",
          "name": "stderr",
          "text": [
            "\r 13%|█▎        | 8/60 [01:24<09:10, 10.59s/it]"
          ]
        },
        {
          "output_type": "stream",
          "name": "stdout",
          "text": [
            "\n",
            "Clean Data Accuracy:  98.64899974019225\n",
            "Attack Success Rate:  100.0\n",
            "Pruned Channel Index:  36\n",
            "361/361 [==============================] - 4s 11ms/step\n",
            "361/361 [==============================] - 4s 10ms/step\n",
            "\n",
            "Clean Data Accuracy: "
          ]
        },
        {
          "output_type": "stream",
          "name": "stderr",
          "text": [
            "\r 15%|█▌        | 9/60 [01:34<08:48, 10.36s/it]"
          ]
        },
        {
          "output_type": "stream",
          "name": "stdout",
          "text": [
            " 98.64899974019225\n",
            "Attack Success Rate:  100.0\n",
            "Pruned Channel Index:  37\n",
            "361/361 [==============================] - 4s 10ms/step\n",
            "361/361 [==============================] - 4s 12ms/step\n"
          ]
        },
        {
          "output_type": "stream",
          "name": "stderr",
          "text": [
            "\r 17%|█▋        | 10/60 [01:45<08:37, 10.34s/it]"
          ]
        },
        {
          "output_type": "stream",
          "name": "stdout",
          "text": [
            "\n",
            "Clean Data Accuracy:  98.64899974019225\n",
            "Attack Success Rate:  100.0\n",
            "Pruned Channel Index:  38\n",
            "361/361 [==============================] - 4s 11ms/step\n",
            "361/361 [==============================] - 4s 10ms/step\n"
          ]
        },
        {
          "output_type": "stream",
          "name": "stderr",
          "text": [
            "\r 18%|█▊        | 11/60 [01:54<08:18, 10.17s/it]"
          ]
        },
        {
          "output_type": "stream",
          "name": "stdout",
          "text": [
            "\n",
            "Clean Data Accuracy:  98.64899974019225\n",
            "Attack Success Rate:  100.0\n",
            "Pruned Channel Index:  25\n",
            "361/361 [==============================] - 4s 11ms/step\n",
            "361/361 [==============================] - 4s 10ms/step\n",
            "\n",
            "Clean Data Accuracy:  98.64899974019225\n",
            "Attack Success Rate:  100.0\n",
            "Pruned Channel Index:  39\n"
          ]
        },
        {
          "output_type": "stream",
          "name": "stderr",
          "text": [
            "\r 20%|██        | 12/60 [02:04<07:59,  9.99s/it]"
          ]
        },
        {
          "output_type": "stream",
          "name": "stdout",
          "text": [
            "361/361 [==============================] - 4s 10ms/step\n",
            "361/361 [==============================] - 4s 11ms/step\n"
          ]
        },
        {
          "output_type": "stream",
          "name": "stderr",
          "text": [
            "\r 22%|██▏       | 13/60 [02:13<07:43,  9.86s/it]"
          ]
        },
        {
          "output_type": "stream",
          "name": "stdout",
          "text": [
            "\n",
            "Clean Data Accuracy:  98.64899974019225\n",
            "Attack Success Rate:  100.0\n",
            "Pruned Channel Index:  41\n",
            "361/361 [==============================] - 4s 10ms/step\n",
            "361/361 [==============================] - 4s 10ms/step\n"
          ]
        },
        {
          "output_type": "stream",
          "name": "stderr",
          "text": [
            "\r 23%|██▎       | 14/60 [02:23<07:29,  9.78s/it]"
          ]
        },
        {
          "output_type": "stream",
          "name": "stdout",
          "text": [
            "\n",
            "Clean Data Accuracy:  98.64899974019225\n",
            "Attack Success Rate:  100.0\n",
            "Pruned Channel Index:  44\n",
            "361/361 [==============================] - 4s 10ms/step\n",
            "361/361 [==============================] - 4s 10ms/step\n"
          ]
        },
        {
          "output_type": "stream",
          "name": "stderr",
          "text": [
            "\r 25%|██▌       | 15/60 [02:34<07:32, 10.07s/it]"
          ]
        },
        {
          "output_type": "stream",
          "name": "stdout",
          "text": [
            "\n",
            "Clean Data Accuracy:  98.64899974019225\n",
            "Attack Success Rate:  100.0\n",
            "Pruned Channel Index:  45\n",
            "361/361 [==============================] - 4s 12ms/step\n",
            "361/361 [==============================] - 4s 11ms/step\n",
            "\n",
            "Clean Data Accuracy:  98.64899974019225\n",
            "Attack Success Rate:  100.0\n",
            "Pruned Channel Index:  47\n"
          ]
        },
        {
          "output_type": "stream",
          "name": "stderr",
          "text": [
            "\r 27%|██▋       | 16/60 [02:45<07:36, 10.37s/it]"
          ]
        },
        {
          "output_type": "stream",
          "name": "stdout",
          "text": [
            "361/361 [==============================] - 4s 10ms/step\n",
            "361/361 [==============================] - 4s 10ms/step\n"
          ]
        },
        {
          "output_type": "stream",
          "name": "stderr",
          "text": [
            "\r 28%|██▊       | 17/60 [02:56<07:31, 10.51s/it]"
          ]
        },
        {
          "output_type": "stream",
          "name": "stdout",
          "text": [
            "\n",
            "Clean Data Accuracy:  98.64899974019225\n",
            "Attack Success Rate:  100.0\n",
            "Pruned Channel Index:  48\n",
            "361/361 [==============================] - 4s 11ms/step\n",
            "361/361 [==============================] - 4s 10ms/step\n"
          ]
        },
        {
          "output_type": "stream",
          "name": "stderr",
          "text": [
            "\r 30%|███       | 18/60 [03:05<07:09, 10.23s/it]"
          ]
        },
        {
          "output_type": "stream",
          "name": "stdout",
          "text": [
            "\n",
            "Clean Data Accuracy:  98.64899974019225\n",
            "Attack Success Rate:  100.0\n",
            "Pruned Channel Index:  49\n",
            "361/361 [==============================] - 4s 10ms/step\n",
            "361/361 [==============================] - 4s 11ms/step\n"
          ]
        },
        {
          "output_type": "stream",
          "name": "stderr",
          "text": [
            "\r 32%|███▏      | 19/60 [03:15<06:50, 10.00s/it]"
          ]
        },
        {
          "output_type": "stream",
          "name": "stdout",
          "text": [
            "\n",
            "Clean Data Accuracy:  98.64899974019225\n",
            "Attack Success Rate:  100.0\n",
            "Pruned Channel Index:  50\n",
            "361/361 [==============================] - 4s 10ms/step\n",
            "361/361 [==============================] - 4s 10ms/step\n"
          ]
        },
        {
          "output_type": "stream",
          "name": "stderr",
          "text": [
            "\r 33%|███▎      | 20/60 [03:24<06:31,  9.78s/it]"
          ]
        },
        {
          "output_type": "stream",
          "name": "stdout",
          "text": [
            "\n",
            "Clean Data Accuracy:  98.64899974019225\n",
            "Attack Success Rate:  100.0\n",
            "Pruned Channel Index:  53\n",
            "361/361 [==============================] - 4s 11ms/step\n",
            "361/361 [==============================] - 4s 10ms/step\n",
            "\n",
            "Clean Data Accuracy:  98.64899974019225\n",
            "Attack Success Rate:  100.0\n",
            "Pruned Channel Index:  55\n"
          ]
        },
        {
          "output_type": "stream",
          "name": "stderr",
          "text": [
            "\r 35%|███▌      | 21/60 [03:33<06:16,  9.67s/it]"
          ]
        },
        {
          "output_type": "stream",
          "name": "stdout",
          "text": [
            "361/361 [==============================] - 3s 10ms/step\n",
            "361/361 [==============================] - 4s 10ms/step\n",
            "\n",
            "Clean Data Accuracy:  98.64899974019225\n",
            "Attack Success Rate:  100.0\n",
            "Pruned Channel Index:  40\n"
          ]
        },
        {
          "output_type": "stream",
          "name": "stderr",
          "text": [
            "\r 37%|███▋      | 22/60 [03:43<06:02,  9.55s/it]"
          ]
        },
        {
          "output_type": "stream",
          "name": "stdout",
          "text": [
            "361/361 [==============================] - 4s 10ms/step\n",
            "361/361 [==============================] - 4s 10ms/step\n"
          ]
        },
        {
          "output_type": "stream",
          "name": "stderr",
          "text": [
            "\r 38%|███▊      | 23/60 [03:53<06:05,  9.87s/it]"
          ]
        },
        {
          "output_type": "stream",
          "name": "stdout",
          "text": [
            "\n",
            "Clean Data Accuracy:  98.64899974019225\n",
            "Attack Success Rate:  100.0\n",
            "Pruned Channel Index:  24\n",
            "361/361 [==============================] - 4s 10ms/step\n",
            "361/361 [==============================] - 4s 10ms/step\n"
          ]
        },
        {
          "output_type": "stream",
          "name": "stderr",
          "text": [
            "\r 40%|████      | 24/60 [04:04<06:01, 10.05s/it]"
          ]
        },
        {
          "output_type": "stream",
          "name": "stdout",
          "text": [
            "\n",
            "Clean Data Accuracy:  98.64899974019225\n",
            "Attack Success Rate:  100.0\n",
            "Pruned Channel Index:  59\n",
            "361/361 [==============================] - 4s 10ms/step\n",
            "361/361 [==============================] - 4s 10ms/step\n"
          ]
        },
        {
          "output_type": "stream",
          "name": "stderr",
          "text": [
            "\r 42%|████▏     | 25/60 [04:14<05:58, 10.25s/it]"
          ]
        },
        {
          "output_type": "stream",
          "name": "stdout",
          "text": [
            "\n",
            "Clean Data Accuracy:  98.64899974019225\n",
            "Attack Success Rate:  100.0\n",
            "Pruned Channel Index:  9\n",
            "361/361 [==============================] - 3s 10ms/step\n",
            "361/361 [==============================] - 4s 10ms/step\n"
          ]
        },
        {
          "output_type": "stream",
          "name": "stderr",
          "text": [
            "\r 43%|████▎     | 26/60 [04:24<05:37,  9.93s/it]"
          ]
        },
        {
          "output_type": "stream",
          "name": "stdout",
          "text": [
            "\n",
            "Clean Data Accuracy:  98.64899974019225\n",
            "Attack Success Rate:  100.0\n",
            "Pruned Channel Index:  2\n",
            "361/361 [==============================] - 4s 11ms/step\n",
            "361/361 [==============================] - 4s 10ms/step\n"
          ]
        },
        {
          "output_type": "stream",
          "name": "stderr",
          "text": [
            "\r 45%|████▌     | 27/60 [04:33<05:25,  9.85s/it]"
          ]
        },
        {
          "output_type": "stream",
          "name": "stdout",
          "text": [
            "\n",
            "Clean Data Accuracy:  98.64899974019225\n",
            "Attack Success Rate:  100.0\n",
            "Pruned Channel Index:  12\n",
            "361/361 [==============================] - 4s 10ms/step\n",
            "361/361 [==============================] - 4s 11ms/step\n"
          ]
        },
        {
          "output_type": "stream",
          "name": "stderr",
          "text": [
            "\r 47%|████▋     | 28/60 [04:44<05:22, 10.08s/it]"
          ]
        },
        {
          "output_type": "stream",
          "name": "stdout",
          "text": [
            "\n",
            "Clean Data Accuracy:  98.64899974019225\n",
            "Attack Success Rate:  100.0\n",
            "Pruned Channel Index:  13\n",
            "361/361 [==============================] - 4s 10ms/step\n",
            "361/361 [==============================] - 4s 11ms/step\n"
          ]
        },
        {
          "output_type": "stream",
          "name": "stderr",
          "text": [
            "\r 48%|████▊     | 29/60 [04:54<05:08,  9.97s/it]"
          ]
        },
        {
          "output_type": "stream",
          "name": "stdout",
          "text": [
            "\n",
            "Clean Data Accuracy:  98.64899974019225\n",
            "Attack Success Rate:  100.0\n",
            "Pruned Channel Index:  17\n",
            "361/361 [==============================] - 4s 11ms/step\n",
            "361/361 [==============================] - 4s 10ms/step\n"
          ]
        },
        {
          "output_type": "stream",
          "name": "stderr",
          "text": [
            "\r 50%|█████     | 30/60 [05:04<05:04, 10.14s/it]"
          ]
        },
        {
          "output_type": "stream",
          "name": "stdout",
          "text": [
            "\n",
            "Clean Data Accuracy:  98.64899974019225\n",
            "Attack Success Rate:  100.0\n",
            "Pruned Channel Index:  14\n",
            "361/361 [==============================] - 4s 10ms/step\n",
            "361/361 [==============================] - 4s 10ms/step\n"
          ]
        },
        {
          "output_type": "stream",
          "name": "stderr",
          "text": [
            "\r 52%|█████▏    | 31/60 [05:15<04:58, 10.30s/it]"
          ]
        },
        {
          "output_type": "stream",
          "name": "stdout",
          "text": [
            "\n",
            "Clean Data Accuracy:  98.64899974019225\n",
            "Attack Success Rate:  100.0\n",
            "Pruned Channel Index:  15\n",
            "361/361 [==============================] - 4s 10ms/step\n",
            "361/361 [==============================] - 4s 10ms/step\n"
          ]
        },
        {
          "output_type": "stream",
          "name": "stderr",
          "text": [
            "\r 53%|█████▎    | 32/60 [05:24<04:41, 10.04s/it]"
          ]
        },
        {
          "output_type": "stream",
          "name": "stdout",
          "text": [
            "\n",
            "Clean Data Accuracy:  98.64899974019225\n",
            "Attack Success Rate:  100.0\n",
            "Pruned Channel Index:  23\n",
            "361/361 [==============================] - 4s 10ms/step\n",
            "361/361 [==============================] - 4s 10ms/step\n"
          ]
        },
        {
          "output_type": "stream",
          "name": "stderr",
          "text": [
            "\r 55%|█████▌    | 33/60 [05:34<04:25,  9.83s/it]"
          ]
        },
        {
          "output_type": "stream",
          "name": "stdout",
          "text": [
            "\n",
            "Clean Data Accuracy:  98.64899974019225\n",
            "Attack Success Rate:  100.0\n",
            "Pruned Channel Index:  6\n",
            "361/361 [==============================] - 3s 10ms/step\n",
            "361/361 [==============================] - 4s 10ms/step\n"
          ]
        },
        {
          "output_type": "stream",
          "name": "stderr",
          "text": [
            "\r 57%|█████▋    | 34/60 [05:43<04:11,  9.67s/it]"
          ]
        },
        {
          "output_type": "stream",
          "name": "stdout",
          "text": [
            "\n",
            "Clean Data Accuracy:  98.64033948211657\n",
            "Attack Success Rate:  100.0\n",
            "Pruned Channel Index:  51\n",
            "361/361 [==============================] - 4s 10ms/step\n",
            "361/361 [==============================] - 4s 10ms/step\n"
          ]
        },
        {
          "output_type": "stream",
          "name": "stderr",
          "text": [
            "\r 58%|█████▊    | 35/60 [05:52<03:58,  9.55s/it]"
          ]
        },
        {
          "output_type": "stream",
          "name": "stdout",
          "text": [
            "\n",
            "Clean Data Accuracy:  98.64033948211657\n",
            "Attack Success Rate:  100.0\n",
            "Pruned Channel Index:  32\n",
            "361/361 [==============================] - 4s 11ms/step\n",
            "361/361 [==============================] - 4s 10ms/step\n",
            "\n",
            "Clean Data Accuracy:  98.63167922404088\n",
            "Attack Success Rate:  100.0\n",
            "Pruned Channel Index:  22\n"
          ]
        },
        {
          "output_type": "stream",
          "name": "stderr",
          "text": [
            "\r 60%|██████    | 36/60 [06:02<03:48,  9.52s/it]"
          ]
        },
        {
          "output_type": "stream",
          "name": "stdout",
          "text": [
            "361/361 [==============================] - 4s 10ms/step\n",
            "361/361 [==============================] - 4s 10ms/step\n"
          ]
        },
        {
          "output_type": "stream",
          "name": "stderr",
          "text": [
            "\r 62%|██████▏   | 37/60 [06:11<03:37,  9.48s/it]"
          ]
        },
        {
          "output_type": "stream",
          "name": "stdout",
          "text": [
            "\n",
            "Clean Data Accuracy:  98.65765999826795\n",
            "Attack Success Rate:  100.0\n",
            "Pruned Channel Index:  21\n",
            "361/361 [==============================] - 4s 10ms/step\n",
            "361/361 [==============================] - 4s 10ms/step\n"
          ]
        },
        {
          "output_type": "stream",
          "name": "stderr",
          "text": [
            "\r 63%|██████▎   | 38/60 [06:20<03:27,  9.41s/it]"
          ]
        },
        {
          "output_type": "stream",
          "name": "stdout",
          "text": [
            "\n",
            "Clean Data Accuracy:  98.64899974019225\n",
            "Attack Success Rate:  100.0\n",
            "Pruned Channel Index:  20\n",
            "361/361 [==============================] - 4s 10ms/step\n",
            "361/361 [==============================] - 4s 10ms/step\n"
          ]
        },
        {
          "output_type": "stream",
          "name": "stderr",
          "text": [
            "\r 65%|██████▌   | 39/60 [06:32<03:33, 10.17s/it]"
          ]
        },
        {
          "output_type": "stream",
          "name": "stdout",
          "text": [
            "\n",
            "Clean Data Accuracy:  98.6056984498138\n",
            "Attack Success Rate:  100.0\n",
            "Pruned Channel Index:  19\n",
            "361/361 [==============================] - 4s 10ms/step\n",
            "361/361 [==============================] - 4s 11ms/step\n"
          ]
        },
        {
          "output_type": "stream",
          "name": "stderr",
          "text": [
            "\r 67%|██████▋   | 40/60 [06:42<03:19,  9.99s/it]"
          ]
        },
        {
          "output_type": "stream",
          "name": "stdout",
          "text": [
            "\n",
            "Clean Data Accuracy:  98.57105741751104\n",
            "Attack Success Rate:  100.0\n",
            "Pruned Channel Index:  43\n",
            "361/361 [==============================] - 4s 10ms/step\n",
            "361/361 [==============================] - 4s 10ms/step\n"
          ]
        },
        {
          "output_type": "stream",
          "name": "stderr",
          "text": [
            "\r 68%|██████▊   | 41/60 [06:53<03:13, 10.21s/it]"
          ]
        },
        {
          "output_type": "stream",
          "name": "stdout",
          "text": [
            "\n",
            "Clean Data Accuracy:  98.53641638520828\n",
            "Attack Success Rate:  100.0\n",
            "Pruned Channel Index:  58\n",
            "361/361 [==============================] - 4s 11ms/step\n",
            "361/361 [==============================] - 4s 10ms/step\n"
          ]
        },
        {
          "output_type": "stream",
          "name": "stderr",
          "text": [
            "\r 70%|███████   | 42/60 [07:02<02:59,  9.99s/it]"
          ]
        },
        {
          "output_type": "stream",
          "name": "stdout",
          "text": [
            "\n",
            "Clean Data Accuracy:  98.19000606218066\n",
            "Attack Success Rate:  100.0\n",
            "Pruned Channel Index:  3\n",
            "361/361 [==============================] - 4s 10ms/step\n",
            "361/361 [==============================] - 4s 10ms/step\n"
          ]
        },
        {
          "output_type": "stream",
          "name": "stderr",
          "text": [
            "\r 72%|███████▏  | 43/60 [07:13<02:53, 10.21s/it]"
          ]
        },
        {
          "output_type": "stream",
          "name": "stdout",
          "text": [
            "\n",
            "Clean Data Accuracy:  97.65307006148784\n",
            "Attack Success Rate:  100.0\n",
            "Pruned Channel Index:  42\n",
            "361/361 [==============================] - 4s 10ms/step\n",
            "361/361 [==============================] - 4s 11ms/step\n"
          ]
        },
        {
          "output_type": "stream",
          "name": "stderr",
          "text": [
            "\r 73%|███████▎  | 44/60 [07:22<02:39,  9.98s/it]"
          ]
        },
        {
          "output_type": "stream",
          "name": "stdout",
          "text": [
            "\n",
            "Clean Data Accuracy:  97.50584567420108\n",
            "Attack Success Rate:  100.0\n",
            "Pruned Channel Index:  1\n",
            "361/361 [==============================] - 4s 11ms/step\n"
          ]
        },
        {
          "output_type": "stream",
          "name": "stderr",
          "text": [
            "WARNING:tensorflow:Compiled the loaded model, but the compiled metrics have yet to be built. `model.compile_metrics` will be empty until you train or evaluate the model.\n"
          ]
        },
        {
          "output_type": "stream",
          "name": "stdout",
          "text": [
            "Accuracy dropped by at least 2%, saving model\n",
            "361/361 [==============================] - 4s 10ms/step\n"
          ]
        },
        {
          "output_type": "stream",
          "name": "stderr",
          "text": [
            "\r 75%|███████▌  | 45/60 [07:33<02:33, 10.21s/it]"
          ]
        },
        {
          "output_type": "stream",
          "name": "stdout",
          "text": [
            "\n",
            "Clean Data Accuracy:  95.75647354291158\n",
            "Attack Success Rate:  100.0\n",
            "Pruned Channel Index:  29\n",
            "361/361 [==============================] - 4s 10ms/step\n",
            "361/361 [==============================] - 4s 10ms/step\n"
          ]
        },
        {
          "output_type": "stream",
          "name": "stderr",
          "text": [
            "\r 77%|███████▋  | 46/60 [07:42<02:20, 10.02s/it]"
          ]
        },
        {
          "output_type": "stream",
          "name": "stdout",
          "text": [
            "\n",
            "Clean Data Accuracy:  95.20221702606739\n",
            "Attack Success Rate:  99.9913397419243\n",
            "Pruned Channel Index:  16\n",
            "361/361 [==============================] - 4s 10ms/step\n",
            "361/361 [==============================] - 4s 11ms/step\n",
            "\n",
            "Clean Data Accuracy:  94.7172425738287\n",
            "Attack Success Rate:  99.9913397419243\n",
            "Pruned Channel Index:  56\n"
          ]
        },
        {
          "output_type": "stream",
          "name": "stderr",
          "text": [
            "\r 78%|███████▊  | 47/60 [07:52<02:08,  9.88s/it]"
          ]
        },
        {
          "output_type": "stream",
          "name": "stdout",
          "text": [
            "361/361 [==============================] - 4s 10ms/step\n"
          ]
        },
        {
          "output_type": "stream",
          "name": "stderr",
          "text": [
            "WARNING:tensorflow:Compiled the loaded model, but the compiled metrics have yet to be built. `model.compile_metrics` will be empty until you train or evaluate the model.\n"
          ]
        },
        {
          "output_type": "stream",
          "name": "stdout",
          "text": [
            "Accuracy dropped by at least 4%, saving model\n",
            "361/361 [==============================] - 4s 10ms/step\n"
          ]
        },
        {
          "output_type": "stream",
          "name": "stderr",
          "text": [
            "\r 80%|████████  | 48/60 [08:02<01:57,  9.78s/it]"
          ]
        },
        {
          "output_type": "stream",
          "name": "stdout",
          "text": [
            "\n",
            "Clean Data Accuracy:  92.09318437689443\n",
            "Attack Success Rate:  99.9913397419243\n",
            "Pruned Channel Index:  46\n",
            "361/361 [==============================] - 4s 10ms/step\n",
            "361/361 [==============================] - 4s 11ms/step\n",
            "\n",
            "Clean Data Accuracy:  91.49562656967177\n",
            "Attack Success Rate:  99.9913397419243\n",
            "Pruned Channel Index:  5\n"
          ]
        },
        {
          "output_type": "stream",
          "name": "stderr",
          "text": [
            "\r 82%|████████▏ | 49/60 [08:11<01:47,  9.75s/it]"
          ]
        },
        {
          "output_type": "stream",
          "name": "stdout",
          "text": [
            "361/361 [==============================] - 4s 10ms/step\n",
            "361/361 [==============================] - 4s 10ms/step\n"
          ]
        },
        {
          "output_type": "stream",
          "name": "stderr",
          "text": [
            "\r 83%|████████▎ | 50/60 [08:21<01:37,  9.70s/it]"
          ]
        },
        {
          "output_type": "stream",
          "name": "stdout",
          "text": [
            "\n",
            "Clean Data Accuracy:  91.01931237550879\n",
            "Attack Success Rate:  99.98267948384861\n",
            "Pruned Channel Index:  8\n",
            "361/361 [==============================] - 4s 11ms/step\n",
            "361/361 [==============================] - 4s 10ms/step\n"
          ]
        },
        {
          "output_type": "stream",
          "name": "stderr",
          "text": [
            "\r 85%|████████▌ | 51/60 [08:30<01:26,  9.65s/it]"
          ]
        },
        {
          "output_type": "stream",
          "name": "stdout",
          "text": [
            "\n",
            "Clean Data Accuracy:  89.17467740538669\n",
            "Attack Success Rate:  80.73958603966398\n",
            "Pruned Channel Index:  11\n",
            "361/361 [==============================] - 4s 10ms/step\n"
          ]
        },
        {
          "output_type": "stream",
          "name": "stderr",
          "text": [
            "WARNING:tensorflow:Compiled the loaded model, but the compiled metrics have yet to be built. `model.compile_metrics` will be empty until you train or evaluate the model.\n"
          ]
        },
        {
          "output_type": "stream",
          "name": "stdout",
          "text": [
            "Accuracy dropped by at least 10%, saving model\n",
            "361/361 [==============================] - 4s 10ms/step\n"
          ]
        },
        {
          "output_type": "stream",
          "name": "stderr",
          "text": [
            "\r 87%|████████▋ | 52/60 [08:41<01:19,  9.99s/it]"
          ]
        },
        {
          "output_type": "stream",
          "name": "stdout",
          "text": [
            "\n",
            "Clean Data Accuracy:  84.43751623798389\n",
            "Attack Success Rate:  77.015675067117\n",
            "Pruned Channel Index:  54\n",
            "361/361 [==============================] - 4s 10ms/step\n",
            "361/361 [==============================] - 4s 10ms/step\n"
          ]
        },
        {
          "output_type": "stream",
          "name": "stderr",
          "text": [
            "\r 88%|████████▊ | 53/60 [08:52<01:11, 10.18s/it]"
          ]
        },
        {
          "output_type": "stream",
          "name": "stdout",
          "text": [
            "\n",
            "Clean Data Accuracy:  76.48739932449988\n",
            "Attack Success Rate:  35.71490430414826\n",
            "Pruned Channel Index:  10\n",
            "361/361 [==============================] - 4s 10ms/step\n",
            "361/361 [==============================] - 4s 10ms/step\n"
          ]
        },
        {
          "output_type": "stream",
          "name": "stderr",
          "text": [
            "\r 90%|█████████ | 54/60 [09:01<00:59,  9.90s/it]"
          ]
        },
        {
          "output_type": "stream",
          "name": "stdout",
          "text": [
            "\n",
            "Clean Data Accuracy:  54.8627349095003\n",
            "Attack Success Rate:  6.954187234779596\n",
            "Pruned Channel Index:  28\n",
            "361/361 [==============================] - 4s 10ms/step\n",
            "361/361 [==============================] - 4s 10ms/step\n"
          ]
        },
        {
          "output_type": "stream",
          "name": "stderr",
          "text": [
            "\r 92%|█████████▏| 55/60 [09:12<00:50, 10.11s/it]"
          ]
        },
        {
          "output_type": "stream",
          "name": "stdout",
          "text": [
            "\n",
            "Clean Data Accuracy:  27.08928726076037\n",
            "Attack Success Rate:  0.4243526457088421\n",
            "Pruned Channel Index:  35\n",
            "361/361 [==============================] - 4s 10ms/step\n",
            "361/361 [==============================] - 4s 11ms/step\n"
          ]
        },
        {
          "output_type": "stream",
          "name": "stderr",
          "text": [
            "\r 93%|█████████▎| 56/60 [09:21<00:39,  9.97s/it]"
          ]
        },
        {
          "output_type": "stream",
          "name": "stdout",
          "text": [
            "\n",
            "Clean Data Accuracy:  13.87373343725643\n",
            "Attack Success Rate:  0.0\n",
            "Pruned Channel Index:  18\n",
            "361/361 [==============================] - 4s 10ms/step\n",
            "361/361 [==============================] - 4s 10ms/step\n"
          ]
        },
        {
          "output_type": "stream",
          "name": "stderr",
          "text": [
            "\r 95%|█████████▌| 57/60 [09:31<00:29,  9.79s/it]"
          ]
        },
        {
          "output_type": "stream",
          "name": "stdout",
          "text": [
            "\n",
            "Clean Data Accuracy:  7.101411622066338\n",
            "Attack Success Rate:  0.0\n",
            "Pruned Channel Index:  4\n",
            "361/361 [==============================] - 4s 11ms/step\n",
            "361/361 [==============================] - 4s 10ms/step\n"
          ]
        },
        {
          "output_type": "stream",
          "name": "stderr",
          "text": [
            "\r 97%|█████████▋| 58/60 [09:40<00:19,  9.72s/it]"
          ]
        },
        {
          "output_type": "stream",
          "name": "stdout",
          "text": [
            "\n",
            "Clean Data Accuracy:  1.5501861955486274\n",
            "Attack Success Rate:  0.0\n",
            "Pruned Channel Index:  7\n",
            "361/361 [==============================] - 4s 10ms/step\n",
            "361/361 [==============================] - 4s 10ms/step\n"
          ]
        },
        {
          "output_type": "stream",
          "name": "stderr",
          "text": [
            "\r 98%|█████████▊| 59/60 [09:50<00:09,  9.63s/it]"
          ]
        },
        {
          "output_type": "stream",
          "name": "stdout",
          "text": [
            "\n",
            "Clean Data Accuracy:  0.7188014202823244\n",
            "Attack Success Rate:  0.0\n",
            "Pruned Channel Index:  52\n",
            "361/361 [==============================] - 4s 10ms/step\n",
            "361/361 [==============================] - 4s 10ms/step\n",
            "\n",
            "Clean Data Accuracy:  0.0779423226812159\n",
            "Attack Success Rate:  0.0\n",
            "Pruned Channel Index:  57\n"
          ]
        },
        {
          "output_type": "stream",
          "name": "stderr",
          "text": [
            "100%|██████████| 60/60 [09:59<00:00,  9.99s/it]\n"
          ]
        }
      ]
    },
    {
      "cell_type": "code",
      "source": [
        "print(\"clean_accuracy: \", accuracy_clean_data)\n",
        "print(\"attack success rate: \", attack_success_rates)"
      ],
      "metadata": {
        "colab": {
          "base_uri": "https://localhost:8080/"
        },
        "id": "vUBPwn0Lubn8",
        "outputId": "0ded6852-dc26-48d3-866f-3f9de8a0f20e"
      },
      "execution_count": 56,
      "outputs": [
        {
          "output_type": "stream",
          "name": "stdout",
          "text": [
            "clean_accuracy:  [98.64899974019225, 98.64899974019225, 98.64899974019225, 98.64899974019225, 98.64899974019225, 98.64899974019225, 98.64899974019225, 98.64899974019225, 98.64899974019225, 98.64899974019225, 98.64899974019225, 98.64899974019225, 98.64899974019225, 98.64899974019225, 98.64899974019225, 98.64899974019225, 98.64899974019225, 98.64899974019225, 98.64899974019225, 98.64899974019225, 98.64899974019225, 98.64899974019225, 98.64899974019225, 98.64899974019225, 98.64899974019225, 98.64899974019225, 98.64899974019225, 98.64899974019225, 98.64899974019225, 98.64899974019225, 98.64899974019225, 98.64899974019225, 98.64899974019225, 98.64033948211657, 98.64033948211657, 98.63167922404088, 98.65765999826795, 98.64899974019225, 98.6056984498138, 98.57105741751104, 98.53641638520828, 98.19000606218066, 97.65307006148784, 97.50584567420108, 95.75647354291158, 95.20221702606739, 94.7172425738287, 92.09318437689443, 91.49562656967177, 91.01931237550879, 89.17467740538669, 84.43751623798389, 76.48739932449988, 54.8627349095003, 27.08928726076037, 13.87373343725643, 7.101411622066338, 1.5501861955486274, 0.7188014202823244, 0.0779423226812159]\n",
            "attack success rate:  [100.0, 100.0, 100.0, 100.0, 100.0, 100.0, 100.0, 100.0, 100.0, 100.0, 100.0, 100.0, 100.0, 100.0, 100.0, 100.0, 100.0, 100.0, 100.0, 100.0, 100.0, 100.0, 100.0, 100.0, 100.0, 100.0, 100.0, 100.0, 100.0, 100.0, 100.0, 100.0, 100.0, 100.0, 100.0, 100.0, 100.0, 100.0, 100.0, 100.0, 100.0, 100.0, 100.0, 100.0, 100.0, 99.9913397419243, 99.9913397419243, 99.9913397419243, 99.9913397419243, 99.98267948384861, 80.73958603966398, 77.015675067117, 35.71490430414826, 6.954187234779596, 0.4243526457088421, 0.0, 0.0, 0.0, 0.0, 0.0]\n"
          ]
        }
      ]
    },
    {
      "cell_type": "code",
      "source": [
        "x_axis = np.arange(1,61)/60\n",
        "plt.plot(x_axis,accuracy_clean_data)\n",
        "plt.plot(x_axis,attack_success_rates)\n",
        "plt.legend(['accuracy on clean validation data','attack success rate'])\n",
        "plt.xlabel(\"fraction of pruned channels\")\n",
        "plt.ylabel(\"rate\")\n",
        "plt.title(\"accuracy and attack success rate for validation dataset\")"
      ],
      "metadata": {
        "id": "06DL1vGAeKUX",
        "outputId": "e2790d64-6641-4591-b47c-1475dbfd7472",
        "colab": {
          "base_uri": "https://localhost:8080/",
          "height": 489
        }
      },
      "execution_count": 57,
      "outputs": [
        {
          "output_type": "execute_result",
          "data": {
            "text/plain": [
              "Text(0.5, 1.0, 'accuracy and attack success rate for validation dataset')"
            ]
          },
          "metadata": {},
          "execution_count": 57
        },
        {
          "output_type": "display_data",
          "data": {
            "text/plain": [
              "<Figure size 640x480 with 1 Axes>"
            ],
            "image/png": "[encoded data removed]"
          },
          "metadata": {}
        }
      ]
    },
    {
      "cell_type": "code",
      "source": [
        "threshold_index = np.where(np.array(accuracy_clean_data) <= (baseline_accuracy-30))[0]\n",
        "print(\"Attack Success Rate at 30% Accuracy Drop: \", attack_success_rates[threshold_index[0]])"
      ],
      "metadata": {
        "colab": {
          "base_uri": "https://localhost:8080/"
        },
        "id": "wkPnRDg1iIXR",
        "outputId": "cbe01dcc-aae3-4306-c0e3-06d007148e8a"
      },
      "execution_count": 58,
      "outputs": [
        {
          "output_type": "stream",
          "name": "stdout",
          "text": [
            "Attack Success Rate at 30% Accuracy Drop:  6.954187234779596\n"
          ]
        }
      ]
    },
    {
      "cell_type": "markdown",
      "source": [
        "# Merging the original BadNet B with the updated BadNet B' is done after the accuracy falls below a certain threshold, X%, which in this case is set at values of 2%, 4%, or 10%."
      ],
      "metadata": {
        "id": "sCfsP5nZmT5Q"
      }
    },
    {
      "cell_type": "code",
      "source": [
        "class EnhancedModel(keras.Model):\n",
        "    def __init__(self, PrimaryModel, SecondaryModel):\n",
        "        super(EnhancedModel, self).__init__()\n",
        "        self.PrimaryModel = PrimaryModel\n",
        "        self.SecondaryModel = SecondaryModel\n",
        "\n",
        "    def make_prediction(self, input_data):\n",
        "        primary_pred = np.argmax(self.PrimaryModel(input_data), axis=1)\n",
        "        secondary_pred = np.argmax(self.SecondaryModel(input_data), axis=1)\n",
        "        final_prediction = np.zeros(input_data.shape[0])\n",
        "        for index in range(input_data.shape[0]):\n",
        "            if primary_pred[index] == secondary_pred[index]:\n",
        "                final_prediction[index] = primary_pred[index]\n",
        "            else:\n",
        "                final_prediction[index] = 1283  # Assuming 1283 is a specific default or error value\n",
        "        return final_prediction"
      ],
      "metadata": {
        "id": "6E00xt5RiwVi"
      },
      "execution_count": 59,
      "outputs": []
    },
    {
      "cell_type": "markdown",
      "source": [
        "## Evaluate the combined model"
      ],
      "metadata": {
        "id": "1VzGeAwDrZu2"
      }
    },
    {
      "cell_type": "code",
      "source": [
        "# Updated file paths for datasets and models\n",
        "clean_test_dataset_path = '/content/drive/MyDrive/lab4/data/cl/test.h5'\n",
        "bd_test_dataset_path = '/content/drive/MyDrive/lab4/data/bd/bd_test.h5'\n",
        "model_pruned_2_percent_path = '/content/model_drop_2.h5'\n",
        "model_pruned_4_percent_path = '/content/model_drop_4.h5'\n",
        "model_pruned_10_percent_path = '/content/model_drop_10.h5'\n"
      ],
      "metadata": {
        "id": "lC0cTvx4rdHP"
      },
      "execution_count": 60,
      "outputs": []
    },
    {
      "cell_type": "code",
      "source": [
        "test_model_X_2 = keras.models.load_model(model_pruned_2_percent_path)\n",
        "test_model_X_4 = keras.models.load_model(model_pruned_4_percent_path)\n",
        "test_model_X_10 = keras.models.load_model(model_pruned_10_percent_path)"
      ],
      "metadata": {
        "colab": {
          "base_uri": "https://localhost:8080/"
        },
        "id": "HBbWyybw_D3Z",
        "outputId": "2f7126fe-0498-47fa-8adf-5ecea97755d2"
      },
      "execution_count": 61,
      "outputs": [
        {
          "output_type": "stream",
          "name": "stderr",
          "text": [
            "WARNING:tensorflow:No training configuration found in the save file, so the model was *not* compiled. Compile it manually.\n",
            "WARNING:tensorflow:No training configuration found in the save file, so the model was *not* compiled. Compile it manually.\n",
            "WARNING:tensorflow:No training configuration found in the save file, so the model was *not* compiled. Compile it manually.\n"
          ]
        }
      ]
    },
    {
      "cell_type": "markdown",
      "source": [
        "Ignore the warnings"
      ],
      "metadata": {
        "id": "rmTymKio-iw2"
      }
    },
    {
      "cell_type": "code",
      "source": [
        "test_data_clean, test_labels_clean = load_dataset(clean_test_dataset_path)\n",
        "test_data_poisoned, test_labels_poisoned = load_dataset(bd_test_dataset_path)"
      ],
      "metadata": {
        "id": "cfIBhRFb_IkB"
      },
      "execution_count": 63,
      "outputs": []
    },
    {
      "cell_type": "code",
      "source": [
        "print(\"x_test_data shape: \",test_data_clean.shape)\n",
        "print(\"x_test_poisoned data shape: \",test_data_poisoned.shape)"
      ],
      "metadata": {
        "colab": {
          "base_uri": "https://localhost:8080/"
        },
        "id": "Vl9gm6Uy_rHz",
        "outputId": "2ab947aa-17f1-4a10-8f1b-b0dffb23ea8e"
      },
      "execution_count": 64,
      "outputs": [
        {
          "output_type": "stream",
          "name": "stdout",
          "text": [
            "x_test_data shape:  (12830, 55, 47, 3)\n",
            "x_test_poisoned data shape:  (12830, 55, 47, 3)\n"
          ]
        }
      ]
    },
    {
      "cell_type": "code",
      "source": [
        "EnhancedModel_X_2 = EnhancedModel(model, test_model_X_2)\n",
        "EnhancedModel_X_4 = EnhancedModel(model, test_model_X_4)\n",
        "EnhancedModel_X_10 = EnhancedModel(model, test_model_X_10)"
      ],
      "metadata": {
        "id": "7BKLN0LRG38W"
      },
      "execution_count": 75,
      "outputs": []
    },
    {
      "cell_type": "markdown",
      "source": [
        "### Evaluating on the test dataset"
      ],
      "metadata": {
        "id": "i09cmgaSKErk"
      }
    },
    {
      "cell_type": "code",
      "source": [
        "label_pred_2_percent_clean = np.argmax(test_model_X_2.predict(test_data_clean), axis=1)\n",
        "accuracy_2_percent_clean = np.mean(np.equal(label_pred_2_percent_clean, test_labels_clean)) * 100\n",
        "print('Model with 2% pruning, Clean Test Data Accuracy:', accuracy_2_percent_clean)\n",
        "\n",
        "label_pred_2_percent_poisoned = np.argmax(test_model_X_2.predict(test_data_poisoned), axis=1)\n",
        "attack_success_rate_2_percent = np.mean(np.equal(label_pred_2_percent_poisoned, test_labels_poisoned)) * 100\n",
        "print('Model with 2% pruning, Attack Success Rate:', attack_success_rate_2_percent)\n",
        "\n",
        "label_pred_4_percent_clean = np.argmax(test_model_X_4.predict(test_data_clean), axis=1)\n",
        "accuracy_4_percent_clean = np.mean(np.equal(label_pred_4_percent_clean, test_labels_clean)) * 100\n",
        "print('Model with 4% pruning, Clean Test Data Accuracy:', accuracy_4_percent_clean)\n",
        "\n",
        "label_pred_4_percent_poisoned = np.argmax(test_model_X_4.predict(test_data_poisoned), axis=1)\n",
        "attack_success_rate_4_percent = np.mean(np.equal(label_pred_4_percent_poisoned, test_labels_poisoned)) * 100\n",
        "print('Model with 4% pruning, Attack Success Rate:', attack_success_rate_4_percent)\n",
        "\n",
        "label_pred_10_percent_clean = np.argmax(test_model_X_10.predict(test_data_clean), axis=1)\n",
        "accuracy_10_percent_clean = np.mean(np.equal(label_pred_10_percent_clean, test_labels_clean)) * 100\n",
        "print('Model with 10% pruning, Clean Test Data Accuracy:', accuracy_10_percent_clean)\n",
        "\n",
        "label_pred_10_percent_poisoned = np.argmax(test_model_X_10.predict(test_data_poisoned), axis=1)\n",
        "attack_success_rate_10_percent = np.mean(np.equal(label_pred_10_percent_poisoned, test_labels_poisoned)) * 100\n",
        "print('Model with 10% pruning, Attack Success Rate:', attack_success_rate_10_percent)\n"
      ],
      "metadata": {
        "colab": {
          "base_uri": "https://localhost:8080/"
        },
        "id": "gYOBO0IJGQ0b",
        "outputId": "1f23dbc7-b04a-41a6-f578-303755b39742"
      },
      "execution_count": 76,
      "outputs": [
        {
          "output_type": "stream",
          "name": "stdout",
          "text": [
            "401/401 [==============================] - 4s 10ms/step\n",
            "Model with 2% pruning, Clean Test Data Accuracy: 95.90023382696803\n",
            "401/401 [==============================] - 4s 10ms/step\n",
            "Model with 2% pruning, Attack Success Rate: 100.0\n",
            "401/401 [==============================] - 4s 11ms/step\n",
            "Model with 4% pruning, Clean Test Data Accuracy: 92.29150428682775\n",
            "401/401 [==============================] - 4s 10ms/step\n",
            "Model with 4% pruning, Attack Success Rate: 99.98441153546376\n",
            "401/401 [==============================] - 4s 10ms/step\n",
            "Model with 10% pruning, Clean Test Data Accuracy: 84.54403741231489\n",
            "401/401 [==============================] - 4s 10ms/step\n",
            "Model with 10% pruning, Attack Success Rate: 77.20966484801247\n"
          ]
        }
      ]
    },
    {
      "cell_type": "markdown",
      "source": [
        "## Defining the fixed models"
      ],
      "metadata": {
        "id": "tixKME3KO1EC"
      }
    },
    {
      "cell_type": "code",
      "source": [
        "accuracy_test_data = [accuracy_2_percent_clean, accuracy_4_percent_clean, accuracy_10_percent_clean]\n",
        "success_rates_attack = [attack_success_rate_2_percent, attack_success_rate_4_percent, attack_success_rate_10_percent]\n",
        "data_summary = {\n",
        "    \"Test_Accuracy\": accuracy_test_data,\n",
        "    \"Attack_Success_Rate\": success_rates_attack,\n",
        "    \"Pruned_Model\": [\"Model_2%_Pruned\", \"Model_4%_Pruned\", \"Model_10%_Pruned\"]\n",
        "}\n",
        "\n",
        "performance_df = pd.DataFrame(data_summary)\n",
        "performance_df.set_index('Pruned_Model')\n"
      ],
      "metadata": {
        "colab": {
          "base_uri": "https://localhost:8080/",
          "height": 175
        },
        "id": "Q3cmQ_UKOmcU",
        "outputId": "d6b51311-637e-49ca-c4b1-a366e8884072"
      },
      "execution_count": 77,
      "outputs": [
        {
          "output_type": "execute_result",
          "data": {
            "text/plain": [
              "                  Test_Accuracy  Attack_Success_Rate\n",
              "Pruned_Model                                        \n",
              "Model_2%_Pruned       95.900234           100.000000\n",
              "Model_4%_Pruned       92.291504            99.984412\n",
              "Model_10%_Pruned      84.544037            77.209665"
            ],
            "text/html": [
              "\n",
              "  <div id=\"df-10b1fb53-aa3e-4797-bfe5-21c9b7498c63\" class=\"colab-df-container\">\n",
              "    <div>\n",
              "<style scoped>\n",
              "    .dataframe tbody tr th:only-of-type {\n",
              "        vertical-align: middle;\n",
              "    }\n",
              "\n",
              "    .dataframe tbody tr th {\n",
              "        vertical-align: top;\n",
              "    }\n",
              "\n",
              "    .dataframe thead th {\n",
              "        text-align: right;\n",
              "    }\n",
              "</style>\n",
              "<table border=\"1\" class=\"dataframe\">\n",
              "  <thead>\n",
              "    <tr style=\"text-align: right;\">\n",
              "      <th></th>\n",
              "      <th>Test_Accuracy</th>\n",
              "      <th>Attack_Success_Rate</th>\n",
              "    </tr>\n",
              "    <tr>\n",
              "      <th>Pruned_Model</th>\n",
              "      <th></th>\n",
              "      <th></th>\n",
              "    </tr>\n",
              "  </thead>\n",
              "  <tbody>\n",
              "    <tr>\n",
              "      <th>Model_2%_Pruned</th>\n",
              "      <td>95.900234</td>\n",
              "      <td>100.000000</td>\n",
              "    </tr>\n",
              "    <tr>\n",
              "      <th>Model_4%_Pruned</th>\n",
              "      <td>92.291504</td>\n",
              "      <td>99.984412</td>\n",
              "    </tr>\n",
              "    <tr>\n",
              "      <th>Model_10%_Pruned</th>\n",
              "      <td>84.544037</td>\n",
              "      <td>77.209665</td>\n",
              "    </tr>\n",
              "  </tbody>\n",
              "</table>\n",
              "</div>\n",
              "    <div class=\"colab-df-buttons\">\n",
              "\n",
              "  <div class=\"colab-df-container\">\n",
              "    <button class=\"colab-df-convert\" onclick=\"convertToInteractive('df-10b1fb53-aa3e-4797-bfe5-21c9b7498c63')\"\n",
              "            title=\"Convert this dataframe to an interactive table.\"\n",
              "            style=\"display:none;\">\n",
              "\n",
              "  <svg xmlns=\"http://www.w3.org/2000/svg\" height=\"24px\" viewBox=\"0 -960 960 960\">\n",
              "    <path d=\"M120-120v-720h720v720H120Zm60-500h600v-160H180v160Zm220 220h160v-160H400v160Zm0 220h160v-160H400v160ZM180-400h160v-160H180v160Zm440 0h160v-160H620v160ZM180-180h160v-160H180v160Zm440 0h160v-160H620v160Z\"/>\n",
              "  </svg>\n",
              "    </button>\n",
              "\n",
              "  <style>\n",
              "    .colab-df-container {\n",
              "      display:flex;\n",
              "      gap: 12px;\n",
              "    }\n",
              "\n",
              "    .colab-df-convert {\n",
              "      background-color: #E8F0FE;\n",
              "      border: none;\n",
              "      border-radius: 50%;\n",
              "      cursor: pointer;\n",
              "      display: none;\n",
              "      fill: #1967D2;\n",
              "      height: 32px;\n",
              "      padding: 0 0 0 0;\n",
              "      width: 32px;\n",
              "    }\n",
              "\n",
              "    .colab-df-convert:hover {\n",
              "      background-color: #E2EBFA;\n",
              "      box-shadow: 0px 1px 2px rgba(60, 64, 67, 0.3), 0px 1px 3px 1px rgba(60, 64, 67, 0.15);\n",
              "      fill: #174EA6;\n",
              "    }\n",
              "\n",
              "    .colab-df-buttons div {\n",
              "      margin-bottom: 4px;\n",
              "    }\n",
              "\n",
              "    [theme=dark] .colab-df-convert {\n",
              "      background-color: #3B4455;\n",
              "      fill: #D2E3FC;\n",
              "    }\n",
              "\n",
              "    [theme=dark] .colab-df-convert:hover {\n",
              "      background-color: #434B5C;\n",
              "      box-shadow: 0px 1px 3px 1px rgba(0, 0, 0, 0.15);\n",
              "      filter: drop-shadow(0px 1px 2px rgba(0, 0, 0, 0.3));\n",
              "      fill: #FFFFFF;\n",
              "    }\n",
              "  </style>\n",
              "\n",
              "    <script>\n",
              "      const buttonEl =\n",
              "        document.querySelector('#df-10b1fb53-aa3e-4797-bfe5-21c9b7498c63 button.colab-df-convert');\n",
              "      buttonEl.style.display =\n",
              "        google.colab.kernel.accessAllowed ? 'block' : 'none';\n",
              "\n",
              "      async function convertToInteractive(key) {\n",
              "        const element = document.querySelector('#df-10b1fb53-aa3e-4797-bfe5-21c9b7498c63');\n",
              "        const dataTable =\n",
              "          await google.colab.kernel.invokeFunction('convertToInteractive',\n",
              "                                                    [key], {});\n",
              "        if (!dataTable) return;\n",
              "\n",
              "        const docLinkHtml = 'Like what you see? Visit the ' +\n",
              "          '<a target=\"_blank\" href=https://colab.research.google.com/notebooks/data_table.ipynb>data table notebook</a>'\n",
              "          + ' to learn more about interactive tables.';\n",
              "        element.innerHTML = '';\n",
              "        dataTable['output_type'] = 'display_data';\n",
              "        await google.colab.output.renderOutput(dataTable, element);\n",
              "        const docLink = document.createElement('div');\n",
              "        docLink.innerHTML = docLinkHtml;\n",
              "        element.appendChild(docLink);\n",
              "      }\n",
              "    </script>\n",
              "  </div>\n",
              "\n",
              "\n",
              "<div id=\"df-b61f7d19-d7f3-4ec8-997f-c7b59faa3af3\">\n",
              "  <button class=\"colab-df-quickchart\" onclick=\"quickchart('df-b61f7d19-d7f3-4ec8-997f-c7b59faa3af3')\"\n",
              "            title=\"Suggest charts\"\n",
              "            style=\"display:none;\">\n",
              "\n",
              "<svg xmlns=\"http://www.w3.org/2000/svg\" height=\"24px\"viewBox=\"0 0 24 24\"\n",
              "     width=\"24px\">\n",
              "    <g>\n",
              "        <path d=\"M19 3H5c-1.1 0-2 .9-2 2v14c0 1.1.9 2 2 2h14c1.1 0 2-.9 2-2V5c0-1.1-.9-2-2-2zM9 17H7v-7h2v7zm4 0h-2V7h2v10zm4 0h-2v-4h2v4z\"/>\n",
              "    </g>\n",
              "</svg>\n",
              "  </button>\n",
              "\n",
              "<style>\n",
              "  .colab-df-quickchart {\n",
              "      --bg-color: #E8F0FE;\n",
              "      --fill-color: #1967D2;\n",
              "      --hover-bg-color: #E2EBFA;\n",
              "      --hover-fill-color: #174EA6;\n",
              "      --disabled-fill-color: #AAA;\n",
              "      --disabled-bg-color: #DDD;\n",
              "  }\n",
              "\n",
              "  [theme=dark] .colab-df-quickchart {\n",
              "      --bg-color: #3B4455;\n",
              "      --fill-color: #D2E3FC;\n",
              "      --hover-bg-color: #434B5C;\n",
              "      --hover-fill-color: #FFFFFF;\n",
              "      --disabled-bg-color: #3B4455;\n",
              "      --disabled-fill-color: #666;\n",
              "  }\n",
              "\n",
              "  .colab-df-quickchart {\n",
              "    background-color: var(--bg-color);\n",
              "    border: none;\n",
              "    border-radius: 50%;\n",
              "    cursor: pointer;\n",
              "    display: none;\n",
              "    fill: var(--fill-color);\n",
              "    height: 32px;\n",
              "    padding: 0;\n",
              "    width: 32px;\n",
              "  }\n",
              "\n",
              "  .colab-df-quickchart:hover {\n",
              "    background-color: var(--hover-bg-color);\n",
              "    box-shadow: 0 1px 2px rgba(60, 64, 67, 0.3), 0 1px 3px 1px rgba(60, 64, 67, 0.15);\n",
              "    fill: var(--button-hover-fill-color);\n",
              "  }\n",
              "\n",
              "  .colab-df-quickchart-complete:disabled,\n",
              "  .colab-df-quickchart-complete:disabled:hover {\n",
              "    background-color: var(--disabled-bg-color);\n",
              "    fill: var(--disabled-fill-color);\n",
              "    box-shadow: none;\n",
              "  }\n",
              "\n",
              "  .colab-df-spinner {\n",
              "    border: 2px solid var(--fill-color);\n",
              "    border-color: transparent;\n",
              "    border-bottom-color: var(--fill-color);\n",
              "    animation:\n",
              "      spin 1s steps(1) infinite;\n",
              "  }\n",
              "\n",
              "  @keyframes spin {\n",
              "    0% {\n",
              "      border-color: transparent;\n",
              "      border-bottom-color: var(--fill-color);\n",
              "      border-left-color: var(--fill-color);\n",
              "    }\n",
              "    20% {\n",
              "      border-color: transparent;\n",
              "      border-left-color: var(--fill-color);\n",
              "      border-top-color: var(--fill-color);\n",
              "    }\n",
              "    30% {\n",
              "      border-color: transparent;\n",
              "      border-left-color: var(--fill-color);\n",
              "      border-top-color: var(--fill-color);\n",
              "      border-right-color: var(--fill-color);\n",
              "    }\n",
              "    40% {\n",
              "      border-color: transparent;\n",
              "      border-right-color: var(--fill-color);\n",
              "      border-top-color: var(--fill-color);\n",
              "    }\n",
              "    60% {\n",
              "      border-color: transparent;\n",
              "      border-right-color: var(--fill-color);\n",
              "    }\n",
              "    80% {\n",
              "      border-color: transparent;\n",
              "      border-right-color: var(--fill-color);\n",
              "      border-bottom-color: var(--fill-color);\n",
              "    }\n",
              "    90% {\n",
              "      border-color: transparent;\n",
              "      border-bottom-color: var(--fill-color);\n",
              "    }\n",
              "  }\n",
              "</style>\n",
              "\n",
              "  <script>\n",
              "    async function quickchart(key) {\n",
              "      const quickchartButtonEl =\n",
              "        document.querySelector('#' + key + ' button');\n",
              "      quickchartButtonEl.disabled = true;  // To prevent multiple clicks.\n",
              "      quickchartButtonEl.classList.add('colab-df-spinner');\n",
              "      try {\n",
              "        const charts = await google.colab.kernel.invokeFunction(\n",
              "            'suggestCharts', [key], {});\n",
              "      } catch (error) {\n",
              "        console.error('Error during call to suggestCharts:', error);\n",
              "      }\n",
              "      quickchartButtonEl.classList.remove('colab-df-spinner');\n",
              "      quickchartButtonEl.classList.add('colab-df-quickchart-complete');\n",
              "    }\n",
              "    (() => {\n",
              "      let quickchartButtonEl =\n",
              "        document.querySelector('#df-b61f7d19-d7f3-4ec8-997f-c7b59faa3af3 button');\n",
              "      quickchartButtonEl.style.display =\n",
              "        google.colab.kernel.accessAllowed ? 'block' : 'none';\n",
              "    })();\n",
              "  </script>\n",
              "</div>\n",
              "    </div>\n",
              "  </div>\n"
            ]
          },
          "metadata": {},
          "execution_count": 77
        }
      ]
    },
    {
      "cell_type": "code",
      "source": [
        "transparency = 0.4\n",
        "width_of_bar = 0.35\n",
        "\n",
        "plt.xlabel('Model Pruning Percentage')\n",
        "plt.ylabel('Performance Metric')\n",
        "\n",
        "plt.xticks(np.arange(len(accuracy_test_data)), ('2%', '4%', '10%'))\n",
        "accuracy_bar = plt.bar(np.arange(len(accuracy_test_data)) + width_of_bar, accuracy_test_data, width_of_bar, align='center', alpha=transparency, color='pink', label='Test Accuracy')\n",
        "attack_success_bar = plt.bar(np.arange(len(success_rates_attack)), success_rates_attack, width_of_bar, align='center', alpha=transparency, color='violet', label='Attack Success Rate')\n",
        "\n",
        "# Adding data labels above bars\n",
        "for bar in accuracy_bar + attack_success_bar:\n",
        "    bar_height = bar.get_height()\n",
        "    plt.text(bar.get_x() + bar.get_width() / 2, bar_height, f'{bar_height:.02f}', ha='center', va='bottom')\n",
        "\n",
        "plt.legend(loc='upper right')\n",
        "plt.title('Performance of Pruned Models')\n",
        "sns.despine()\n",
        "plt.show()"
      ],
      "metadata": {
        "colab": {
          "base_uri": "https://localhost:8080/",
          "height": 472
        },
        "id": "hR7rVgurREls",
        "outputId": "f0230ebb-ab63-4d47-dbf2-4c2170feffe8"
      },
      "execution_count": 78,
      "outputs": [
        {
          "output_type": "display_data",
          "data": {
            "text/plain": [
              "<Figure size 640x480 with 1 Axes>"
            ],
            "image/png": "[encoded data removed]"
          },
          "metadata": {}
        }
      ]
    },
    {
      "cell_type": "code",
      "source": [
        "enhanced_clean_test_2_predictions = EnhancedModel_X_2.make_prediction(test_data_clean)\n",
        "enhanced_clean_test_2_accuracy = np.mean(np.equal(enhanced_clean_test_2_predictions, test_labels_clean)) * 100\n",
        "print('Enhanced Model with 2% Pruned Accuracy, Clean Test Data Classification Accuracy:', enhanced_clean_test_2_accuracy)\n",
        "\n",
        "enhanced_attack_test_2_predictions = EnhancedModel_X_2.make_prediction(test_data_poisoned)\n",
        "enhanced_model_asrate_2 = np.mean(np.equal(enhanced_attack_test_2_predictions, test_labels_poisoned)) * 100\n",
        "print('Enhanced Model with 2% Pruned Accuracy, Attack Success Rate:', enhanced_model_asrate_2)\n",
        "\n",
        "enhanced_clean_test_4_predictions = EnhancedModel_X_4.make_prediction(test_data_clean)\n",
        "enhanced_clean_test_4_accuracy = np.mean(np.equal(enhanced_clean_test_4_predictions, test_labels_clean)) * 100\n",
        "print('Enhanced Model with 4% Pruned Accuracy, Clean Test Data Classification Accuracy:', enhanced_clean_test_4_accuracy)\n",
        "\n",
        "enhanced_attack_test_4_predictions = EnhancedModel_X_4.make_prediction(test_data_poisoned)\n",
        "enhanced_model_asrate_4 = np.mean(np.equal(enhanced_attack_test_4_predictions, test_labels_poisoned)) * 100\n",
        "print('Enhanced Model with 4% Pruned Accuracy, Attack Success Rate:', enhanced_model_asrate_4)\n",
        "\n",
        "enhanced_clean_test_10_predictions = EnhancedModel_X_10.make_prediction(test_data_clean)\n",
        "enhanced_clean_test_10_accuracy = np.mean(np.equal(enhanced_clean_test_10_predictions, test_labels_clean)) * 100\n",
        "print('Enhanced Model with 10% Pruned Accuracy, Clean Test Data Classification Accuracy:', enhanced_clean_test_10_accuracy)\n",
        "\n",
        "enhanced_attack_test_10_predictions = EnhancedModel_X_10.make_prediction(test_data_poisoned)\n",
        "enhanced_model_asrate_10 = np.mean(np.equal(enhanced_attack_test_10_predictions, test_labels_poisoned)) * 100\n",
        "print('Enhanced Model with 10% Pruned Accuracy, Attack Success Rate:', enhanced_model_asrate_10)"
      ],
      "metadata": {
        "id": "98mQEY9Eogew",
        "outputId": "12011ab9-0aa9-43f2-ac0f-ff9a5419485a",
        "colab": {
          "base_uri": "https://localhost:8080/"
        }
      },
      "execution_count": 79,
      "outputs": [
        {
          "output_type": "stream",
          "name": "stdout",
          "text": [
            "Enhanced Model with 2% Pruned Accuracy, Clean Test Data Classification Accuracy: 95.74434918160561\n",
            "Enhanced Model with 2% Pruned Accuracy, Attack Success Rate: 100.0\n",
            "Enhanced Model with 4% Pruned Accuracy, Clean Test Data Classification Accuracy: 92.1278254091972\n",
            "Enhanced Model with 4% Pruned Accuracy, Attack Success Rate: 99.98441153546376\n",
            "Enhanced Model with 10% Pruned Accuracy, Clean Test Data Classification Accuracy: 84.3335931410756\n",
            "Enhanced Model with 10% Pruned Accuracy, Attack Success Rate: 77.20966484801247\n"
          ]
        }
      ]
    },
    {
      "cell_type": "code",
      "source": [
        "enhanced_test_accuracy = [enhanced_clean_test_2_accuracy, enhanced_clean_test_4_accuracy, enhanced_clean_test_10_accuracy]\n",
        "enhanced_attack_rate = [enhanced_model_asrate_2, enhanced_model_asrate_4, enhanced_model_asrate_10]\n",
        "\n",
        "enhanced_data = {\n",
        "    \"Enhanced_Test_Accuracy\": enhanced_test_accuracy,\n",
        "    \"Enhanced_Attack_Rate\": enhanced_attack_rate,\n",
        "    \"Enhanced_Model\": [\"Enhanced_2%\", \"Enhanced_4%\", \"Enhanced_10%\"]\n",
        "}\n",
        "enhanced_df = pd.DataFrame(enhanced_data)\n",
        "enhanced_df.set_index('Enhanced_Model')\n"
      ],
      "metadata": {
        "id": "9VgzlpEyqeKK",
        "outputId": "fdefcdfc-f72e-49ed-d866-530589033d7b",
        "colab": {
          "base_uri": "https://localhost:8080/",
          "height": 175
        }
      },
      "execution_count": 80,
      "outputs": [
        {
          "output_type": "execute_result",
          "data": {
            "text/plain": [
              "                Enhanced_Test_Accuracy  Enhanced_Attack_Rate\n",
              "Enhanced_Model                                              \n",
              "Enhanced_2%                  95.744349            100.000000\n",
              "Enhanced_4%                  92.127825             99.984412\n",
              "Enhanced_10%                 84.333593             77.209665"
            ],
            "text/html": [
              "\n",
              "  <div id=\"df-ee401986-dc51-48ee-9512-ac7169405204\" class=\"colab-df-container\">\n",
              "    <div>\n",
              "<style scoped>\n",
              "    .dataframe tbody tr th:only-of-type {\n",
              "        vertical-align: middle;\n",
              "    }\n",
              "\n",
              "    .dataframe tbody tr th {\n",
              "        vertical-align: top;\n",
              "    }\n",
              "\n",
              "    .dataframe thead th {\n",
              "        text-align: right;\n",
              "    }\n",
              "</style>\n",
              "<table border=\"1\" class=\"dataframe\">\n",
              "  <thead>\n",
              "    <tr style=\"text-align: right;\">\n",
              "      <th></th>\n",
              "      <th>Enhanced_Test_Accuracy</th>\n",
              "      <th>Enhanced_Attack_Rate</th>\n",
              "    </tr>\n",
              "    <tr>\n",
              "      <th>Enhanced_Model</th>\n",
              "      <th></th>\n",
              "      <th></th>\n",
              "    </tr>\n",
              "  </thead>\n",
              "  <tbody>\n",
              "    <tr>\n",
              "      <th>Enhanced_2%</th>\n",
              "      <td>95.744349</td>\n",
              "      <td>100.000000</td>\n",
              "    </tr>\n",
              "    <tr>\n",
              "      <th>Enhanced_4%</th>\n",
              "      <td>92.127825</td>\n",
              "      <td>99.984412</td>\n",
              "    </tr>\n",
              "    <tr>\n",
              "      <th>Enhanced_10%</th>\n",
              "      <td>84.333593</td>\n",
              "      <td>77.209665</td>\n",
              "    </tr>\n",
              "  </tbody>\n",
              "</table>\n",
              "</div>\n",
              "    <div class=\"colab-df-buttons\">\n",
              "\n",
              "  <div class=\"colab-df-container\">\n",
              "    <button class=\"colab-df-convert\" onclick=\"convertToInteractive('df-ee401986-dc51-48ee-9512-ac7169405204')\"\n",
              "            title=\"Convert this dataframe to an interactive table.\"\n",
              "            style=\"display:none;\">\n",
              "\n",
              "  <svg xmlns=\"http://www.w3.org/2000/svg\" height=\"24px\" viewBox=\"0 -960 960 960\">\n",
              "    <path d=\"M120-120v-720h720v720H120Zm60-500h600v-160H180v160Zm220 220h160v-160H400v160Zm0 220h160v-160H400v160ZM180-400h160v-160H180v160Zm440 0h160v-160H620v160ZM180-180h160v-160H180v160Zm440 0h160v-160H620v160Z\"/>\n",
              "  </svg>\n",
              "    </button>\n",
              "\n",
              "  <style>\n",
              "    .colab-df-container {\n",
              "      display:flex;\n",
              "      gap: 12px;\n",
              "    }\n",
              "\n",
              "    .colab-df-convert {\n",
              "      background-color: #E8F0FE;\n",
              "      border: none;\n",
              "      border-radius: 50%;\n",
              "      cursor: pointer;\n",
              "      display: none;\n",
              "      fill: #1967D2;\n",
              "      height: 32px;\n",
              "      padding: 0 0 0 0;\n",
              "      width: 32px;\n",
              "    }\n",
              "\n",
              "    .colab-df-convert:hover {\n",
              "      background-color: #E2EBFA;\n",
              "      box-shadow: 0px 1px 2px rgba(60, 64, 67, 0.3), 0px 1px 3px 1px rgba(60, 64, 67, 0.15);\n",
              "      fill: #174EA6;\n",
              "    }\n",
              "\n",
              "    .colab-df-buttons div {\n",
              "      margin-bottom: 4px;\n",
              "    }\n",
              "\n",
              "    [theme=dark] .colab-df-convert {\n",
              "      background-color: #3B4455;\n",
              "      fill: #D2E3FC;\n",
              "    }\n",
              "\n",
              "    [theme=dark] .colab-df-convert:hover {\n",
              "      background-color: #434B5C;\n",
              "      box-shadow: 0px 1px 3px 1px rgba(0, 0, 0, 0.15);\n",
              "      filter: drop-shadow(0px 1px 2px rgba(0, 0, 0, 0.3));\n",
              "      fill: #FFFFFF;\n",
              "    }\n",
              "  </style>\n",
              "\n",
              "    <script>\n",
              "      const buttonEl =\n",
              "        document.querySelector('#df-ee401986-dc51-48ee-9512-ac7169405204 button.colab-df-convert');\n",
              "      buttonEl.style.display =\n",
              "        google.colab.kernel.accessAllowed ? 'block' : 'none';\n",
              "\n",
              "      async function convertToInteractive(key) {\n",
              "        const element = document.querySelector('#df-ee401986-dc51-48ee-9512-ac7169405204');\n",
              "        const dataTable =\n",
              "          await google.colab.kernel.invokeFunction('convertToInteractive',\n",
              "                                                    [key], {});\n",
              "        if (!dataTable) return;\n",
              "\n",
              "        const docLinkHtml = 'Like what you see? Visit the ' +\n",
              "          '<a target=\"_blank\" href=https://colab.research.google.com/notebooks/data_table.ipynb>data table notebook</a>'\n",
              "          + ' to learn more about interactive tables.';\n",
              "        element.innerHTML = '';\n",
              "        dataTable['output_type'] = 'display_data';\n",
              "        await google.colab.output.renderOutput(dataTable, element);\n",
              "        const docLink = document.createElement('div');\n",
              "        docLink.innerHTML = docLinkHtml;\n",
              "        element.appendChild(docLink);\n",
              "      }\n",
              "    </script>\n",
              "  </div>\n",
              "\n",
              "\n",
              "<div id=\"df-7180374c-0083-4631-af35-e5b1983a2c79\">\n",
              "  <button class=\"colab-df-quickchart\" onclick=\"quickchart('df-7180374c-0083-4631-af35-e5b1983a2c79')\"\n",
              "            title=\"Suggest charts\"\n",
              "            style=\"display:none;\">\n",
              "\n",
              "<svg xmlns=\"http://www.w3.org/2000/svg\" height=\"24px\"viewBox=\"0 0 24 24\"\n",
              "     width=\"24px\">\n",
              "    <g>\n",
              "        <path d=\"M19 3H5c-1.1 0-2 .9-2 2v14c0 1.1.9 2 2 2h14c1.1 0 2-.9 2-2V5c0-1.1-.9-2-2-2zM9 17H7v-7h2v7zm4 0h-2V7h2v10zm4 0h-2v-4h2v4z\"/>\n",
              "    </g>\n",
              "</svg>\n",
              "  </button>\n",
              "\n",
              "<style>\n",
              "  .colab-df-quickchart {\n",
              "      --bg-color: #E8F0FE;\n",
              "      --fill-color: #1967D2;\n",
              "      --hover-bg-color: #E2EBFA;\n",
              "      --hover-fill-color: #174EA6;\n",
              "      --disabled-fill-color: #AAA;\n",
              "      --disabled-bg-color: #DDD;\n",
              "  }\n",
              "\n",
              "  [theme=dark] .colab-df-quickchart {\n",
              "      --bg-color: #3B4455;\n",
              "      --fill-color: #D2E3FC;\n",
              "      --hover-bg-color: #434B5C;\n",
              "      --hover-fill-color: #FFFFFF;\n",
              "      --disabled-bg-color: #3B4455;\n",
              "      --disabled-fill-color: #666;\n",
              "  }\n",
              "\n",
              "  .colab-df-quickchart {\n",
              "    background-color: var(--bg-color);\n",
              "    border: none;\n",
              "    border-radius: 50%;\n",
              "    cursor: pointer;\n",
              "    display: none;\n",
              "    fill: var(--fill-color);\n",
              "    height: 32px;\n",
              "    padding: 0;\n",
              "    width: 32px;\n",
              "  }\n",
              "\n",
              "  .colab-df-quickchart:hover {\n",
              "    background-color: var(--hover-bg-color);\n",
              "    box-shadow: 0 1px 2px rgba(60, 64, 67, 0.3), 0 1px 3px 1px rgba(60, 64, 67, 0.15);\n",
              "    fill: var(--button-hover-fill-color);\n",
              "  }\n",
              "\n",
              "  .colab-df-quickchart-complete:disabled,\n",
              "  .colab-df-quickchart-complete:disabled:hover {\n",
              "    background-color: var(--disabled-bg-color);\n",
              "    fill: var(--disabled-fill-color);\n",
              "    box-shadow: none;\n",
              "  }\n",
              "\n",
              "  .colab-df-spinner {\n",
              "    border: 2px solid var(--fill-color);\n",
              "    border-color: transparent;\n",
              "    border-bottom-color: var(--fill-color);\n",
              "    animation:\n",
              "      spin 1s steps(1) infinite;\n",
              "  }\n",
              "\n",
              "  @keyframes spin {\n",
              "    0% {\n",
              "      border-color: transparent;\n",
              "      border-bottom-color: var(--fill-color);\n",
              "      border-left-color: var(--fill-color);\n",
              "    }\n",
              "    20% {\n",
              "      border-color: transparent;\n",
              "      border-left-color: var(--fill-color);\n",
              "      border-top-color: var(--fill-color);\n",
              "    }\n",
              "    30% {\n",
              "      border-color: transparent;\n",
              "      border-left-color: var(--fill-color);\n",
              "      border-top-color: var(--fill-color);\n",
              "      border-right-color: var(--fill-color);\n",
              "    }\n",
              "    40% {\n",
              "      border-color: transparent;\n",
              "      border-right-color: var(--fill-color);\n",
              "      border-top-color: var(--fill-color);\n",
              "    }\n",
              "    60% {\n",
              "      border-color: transparent;\n",
              "      border-right-color: var(--fill-color);\n",
              "    }\n",
              "    80% {\n",
              "      border-color: transparent;\n",
              "      border-right-color: var(--fill-color);\n",
              "      border-bottom-color: var(--fill-color);\n",
              "    }\n",
              "    90% {\n",
              "      border-color: transparent;\n",
              "      border-bottom-color: var(--fill-color);\n",
              "    }\n",
              "  }\n",
              "</style>\n",
              "\n",
              "  <script>\n",
              "    async function quickchart(key) {\n",
              "      const quickchartButtonEl =\n",
              "        document.querySelector('#' + key + ' button');\n",
              "      quickchartButtonEl.disabled = true;  // To prevent multiple clicks.\n",
              "      quickchartButtonEl.classList.add('colab-df-spinner');\n",
              "      try {\n",
              "        const charts = await google.colab.kernel.invokeFunction(\n",
              "            'suggestCharts', [key], {});\n",
              "      } catch (error) {\n",
              "        console.error('Error during call to suggestCharts:', error);\n",
              "      }\n",
              "      quickchartButtonEl.classList.remove('colab-df-spinner');\n",
              "      quickchartButtonEl.classList.add('colab-df-quickchart-complete');\n",
              "    }\n",
              "    (() => {\n",
              "      let quickchartButtonEl =\n",
              "        document.querySelector('#df-7180374c-0083-4631-af35-e5b1983a2c79 button');\n",
              "      quickchartButtonEl.style.display =\n",
              "        google.colab.kernel.accessAllowed ? 'block' : 'none';\n",
              "    })();\n",
              "  </script>\n",
              "</div>\n",
              "    </div>\n",
              "  </div>\n"
            ]
          },
          "metadata": {},
          "execution_count": 80
        }
      ]
    },
    {
      "cell_type": "code",
      "source": [
        "transparency = 0.4\n",
        "bar_width = 0.35\n",
        "\n",
        "plt.xlabel('Enhanced Model with % Accuracy Drop')\n",
        "plt.ylabel('Rates')\n",
        "\n",
        "plt.xticks(range(len(enhanced_test_accuracy)), ('2%', '4%', '10%'))\n",
        "bar1 = plt.bar(np.arange(len(enhanced_test_accuracy)) + bar_width, enhanced_test_accuracy, bar_width, align='center', alpha=transparency, color='pink', label='Classification Accuracy')\n",
        "bar2 = plt.bar(range(len(enhanced_attack_rate)), enhanced_attack_rate, bar_width, align='center', alpha=transparency, color='violet', label='Attack Rate')\n",
        "\n",
        "for rect in bar1 + bar2:\n",
        "    height = rect.get_height()\n",
        "    plt.text(rect.get_x() + rect.get_width() / 2.0, height, f'{height:.02f}', ha='center', va='bottom')\n",
        "\n",
        "plt.legend(bbox_to_anchor=(1.4, 1))\n",
        "plt.tight_layout()\n",
        "plt.title('Performance Analysis of Enhanced Model (Enhanced GoodNet)')\n",
        "sns.despine()\n",
        "plt.show()\n"
      ],
      "metadata": {
        "id": "L0kFQv9Uq7Iq",
        "outputId": "ec00608f-cd35-4dfd-8ad9-a20c03c039fa",
        "colab": {
          "base_uri": "https://localhost:8080/",
          "height": 509
        }
      },
      "execution_count": 81,
      "outputs": [
        {
          "output_type": "display_data",
          "data": {
            "text/plain": [
              "<Figure size 640x480 with 1 Axes>"
            ],
            "image/png": "[encoded data removed]"
          },
          "metadata": {}
        }
      ]
    },
    {
      "cell_type": "markdown",
      "source": [
        "---"
      ],
      "metadata": {
        "id": "MFvCnaLAJr7j"
      }
    },
    {
      "cell_type": "code",
      "source": [],
      "metadata": {
        "id": "gCBwjudvV42U"
      },
      "execution_count": null,
      "outputs": []
    }
  ]
}